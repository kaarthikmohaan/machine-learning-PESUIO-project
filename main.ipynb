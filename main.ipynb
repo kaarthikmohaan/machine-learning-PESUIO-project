{
 "cells": [
  {
   "cell_type": "code",
   "execution_count": 2,
   "metadata": {},
   "outputs": [
    {
     "name": "stdout",
     "output_type": "stream",
     "text": [
      "Outcome: [230.] \n",
      " Coefficients: [10.  2.  3.]\n"
     ]
    }
   ],
   "source": [
    "# Import the libraries\n",
    "from random import randint\n",
    "from sklearn.linear_model import LinearRegression\n",
    "\n",
    "# Create a range limit for random numbers in the training set, and a count of the number of rows in the training set\n",
    "TRAIN_SET_LIMIT = 1000\n",
    "TRAIN_SET_COUNT = 100\n",
    "\n",
    "\n",
    "# Create an empty list of the input training set 'X' and create an empty list of the output for each training set 'Y'\n",
    "TRAIN_INPUT = list()\n",
    "TRAIN_OUTPUT= list()\n",
    "\n",
    "#Create and append a randomly generated data set to the input and output\n",
    "for i in range(TRAIN_SET_COUNT):\n",
    "    a = randint(0, TRAIN_SET_LIMIT)\n",
    "    b = randint(0, TRAIN_SET_LIMIT)\n",
    "    c = randint(0, TRAIN_SET_LIMIT)\n",
    "    #Create a linear function for the output dataset 'Y'\n",
    "    op = (10*a) + (2*b) + (3*c)\n",
    "    TRAIN_INPUT.append([a,b,c])\n",
    "    TRAIN_OUTPUT.append(op)\n",
    "\n",
    "predictor = LinearRegression(n_jobs=-1) #Create a linear regression object NOTE n_jobs = the number of jobs to use for computation, -1 means use all processors\n",
    "predictor.fit(X=TRAIN_INPUT, y=TRAIN_OUTPUT)  #fit the linear model (approximate a target function)\n",
    "\n",
    "X_TEST = [[10,20,30]] #Create our testing data set, the ouput should be 10*10 + 2*20 + 3*30 = 230\n",
    "outcome = predictor.predict(X=X_TEST) # Predict the ouput of the test data using the linear model\n",
    "\n",
    "coefficients = predictor.coef_  #The estimated coefficients for the linear regression problem.\n",
    "\n",
    "print('Outcome: {} \\n Coefficients: {}'.format(outcome, coefficients))"
   ]
  },
  {
   "cell_type": "code",
   "execution_count": null,
   "metadata": {},
   "outputs": [],
   "source": []
  }
 ],
 "metadata": {
  "kernelspec": {
   "display_name": "Python 3",
   "language": "python",
   "name": "python3"
  },
  "language_info": {
   "codemirror_mode": {
    "name": "ipython",
    "version": 3
   },
   "file_extension": ".py",
   "mimetype": "text/x-python",
   "name": "python",
   "nbconvert_exporter": "python",
   "pygments_lexer": "ipython3",
   "version": "3.6.8"
  }
 },
 "nbformat": 4,
 "nbformat_minor": 2
}
